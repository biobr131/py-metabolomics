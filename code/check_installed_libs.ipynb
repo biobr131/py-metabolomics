{
 "cells": [
  {
   "cell_type": "code",
   "execution_count": 1,
   "id": "3b76e454-3195-41a3-ad07-5b7939c91229",
   "metadata": {},
   "outputs": [
    {
     "data": {
      "text/plain": [
       "'1.26.4'"
      ]
     },
     "execution_count": 1,
     "metadata": {},
     "output_type": "execute_result"
    }
   ],
   "source": [
    "import numpy as np\n",
    "\n",
    "np.__version__"
   ]
  },
  {
   "cell_type": "code",
   "execution_count": 2,
   "id": "7b877594-15f9-4a06-acf7-b388b9a14e32",
   "metadata": {},
   "outputs": [
    {
     "data": {
      "text/plain": [
       "'1.5.3'"
      ]
     },
     "execution_count": 2,
     "metadata": {},
     "output_type": "execute_result"
    }
   ],
   "source": [
    "import pandas as pd\n",
    "\n",
    "pd.__version__"
   ]
  },
  {
   "cell_type": "code",
   "execution_count": 3,
   "id": "b53fa316-7ea2-44bb-a6a1-73da69428b0e",
   "metadata": {},
   "outputs": [
    {
     "data": {
      "text/plain": [
       "'4.8.3'"
      ]
     },
     "execution_count": 3,
     "metadata": {},
     "output_type": "execute_result"
    }
   ],
   "source": [
    "import ydata_profiling\n",
    "\n",
    "ydata_profiling.__version__"
   ]
  },
  {
   "cell_type": "code",
   "execution_count": 4,
   "id": "3b42ef3a-fcc5-43d4-a671-aaca584c56ae",
   "metadata": {},
   "outputs": [
    {
     "data": {
      "text/plain": [
       "'0.20.29'"
      ]
     },
     "execution_count": 4,
     "metadata": {},
     "output_type": "execute_result"
    }
   ],
   "source": [
    "import polars as pl\n",
    "\n",
    "pl.__version__"
   ]
  },
  {
   "cell_type": "code",
   "execution_count": 5,
   "id": "a63f8dec-fcf9-4641-a3fb-3f3228ca14bb",
   "metadata": {},
   "outputs": [
    {
     "data": {
      "text/plain": [
       "'1.13.1'"
      ]
     },
     "execution_count": 5,
     "metadata": {},
     "output_type": "execute_result"
    }
   ],
   "source": [
    "import scipy\n",
    "\n",
    "scipy.__version__"
   ]
  },
  {
   "cell_type": "code",
   "execution_count": 6,
   "id": "e00f5d07-66dd-427f-bb30-62796a6a8515",
   "metadata": {},
   "outputs": [
    {
     "data": {
      "text/plain": [
       "'0.14.2'"
      ]
     },
     "execution_count": 6,
     "metadata": {},
     "output_type": "execute_result"
    }
   ],
   "source": [
    "import statsmodels\n",
    "\n",
    "statsmodels.__version__"
   ]
  },
  {
   "cell_type": "code",
   "execution_count": 7,
   "id": "0e215752-8162-44c7-b0a5-f20ad1510490",
   "metadata": {},
   "outputs": [
    {
     "data": {
      "text/plain": [
       "'3.8.4'"
      ]
     },
     "execution_count": 7,
     "metadata": {},
     "output_type": "execute_result"
    }
   ],
   "source": [
    "import matplotlib\n",
    "\n",
    "%matplotlib inline\n",
    "\n",
    "matplotlib.__version__"
   ]
  },
  {
   "cell_type": "code",
   "execution_count": 8,
   "id": "6a4129b6-977d-4828-9b1a-8ce6c0302130",
   "metadata": {},
   "outputs": [],
   "source": [
    "import japanize_matplotlib"
   ]
  },
  {
   "cell_type": "code",
   "execution_count": 9,
   "id": "49aeb209-ac82-4480-be25-f2a420e9b458",
   "metadata": {},
   "outputs": [
    {
     "data": {
      "text/plain": [
       "'0.11.2'"
      ]
     },
     "execution_count": 9,
     "metadata": {},
     "output_type": "execute_result"
    }
   ],
   "source": [
    "import seaborn as sns\n",
    "\n",
    "sns.__version__"
   ]
  },
  {
   "cell_type": "code",
   "execution_count": 10,
   "id": "5240df9c-36ef-4050-9333-eada75c99755",
   "metadata": {},
   "outputs": [
    {
     "data": {
      "text/plain": [
       "'0.6.0'"
      ]
     },
     "execution_count": 10,
     "metadata": {},
     "output_type": "execute_result"
    }
   ],
   "source": [
    "import statannotations\n",
    "\n",
    "statannotations.__version__"
   ]
  },
  {
   "cell_type": "code",
   "execution_count": 11,
   "id": "266cdc28-5260-45c4-a983-d2fb5152607d",
   "metadata": {},
   "outputs": [
    {
     "data": {
      "text/plain": [
       "'2.32.2'"
      ]
     },
     "execution_count": 11,
     "metadata": {},
     "output_type": "execute_result"
    }
   ],
   "source": [
    "import requests\n",
    "\n",
    "requests.__version__"
   ]
  },
  {
   "cell_type": "code",
   "execution_count": 12,
   "id": "e1fd78a6-c309-419f-9470-efad3fd63f1e",
   "metadata": {},
   "outputs": [
    {
     "data": {
      "text/plain": [
       "'1.5.0'"
      ]
     },
     "execution_count": 12,
     "metadata": {},
     "output_type": "execute_result"
    }
   ],
   "source": [
    "import sklearn\n",
    "\n",
    "sklearn.__version__"
   ]
  },
  {
   "cell_type": "code",
   "execution_count": 13,
   "id": "ff81abb6-224c-4fe8-8a6d-730b23039640",
   "metadata": {},
   "outputs": [
    {
     "data": {
      "text/plain": [
       "'3.1.2'"
      ]
     },
     "execution_count": 13,
     "metadata": {},
     "output_type": "execute_result"
    }
   ],
   "source": [
    "import openpyxl\n",
    "\n",
    "openpyxl.__version__"
   ]
  },
  {
   "cell_type": "code",
   "execution_count": 14,
   "id": "84f1598e-0439-4ca7-b19e-5468d611c3a4",
   "metadata": {},
   "outputs": [
    {
     "data": {
      "text/plain": [
       "'2.0.1'"
      ]
     },
     "execution_count": 14,
     "metadata": {},
     "output_type": "execute_result"
    }
   ],
   "source": [
    "import xlrd\n",
    "\n",
    "xlrd.__version__"
   ]
  },
  {
   "cell_type": "code",
   "execution_count": 15,
   "id": "1f8ca1b2-b0b1-4b53-b05a-979835f2b88e",
   "metadata": {},
   "outputs": [
    {
     "data": {
      "text/plain": [
       "'2023.09.6'"
      ]
     },
     "execution_count": 15,
     "metadata": {},
     "output_type": "execute_result"
    }
   ],
   "source": [
    "import rdkit\n",
    "\n",
    "rdkit.__version__"
   ]
  },
  {
   "cell_type": "code",
   "execution_count": 16,
   "id": "badc40e2-25eb-4535-9a9f-eea77dbe053f",
   "metadata": {},
   "outputs": [
    {
     "data": {
      "text/plain": [
       "'1.83'"
      ]
     },
     "execution_count": 16,
     "metadata": {},
     "output_type": "execute_result"
    }
   ],
   "source": [
    "import Bio\n",
    "\n",
    "Bio.__version__"
   ]
  },
  {
   "cell_type": "code",
   "execution_count": 17,
   "id": "5c1b010d-5c44-441b-b616-0771fd8716d6",
   "metadata": {},
   "outputs": [
    {
     "data": {
      "text/plain": [
       "'0.10.7'"
      ]
     },
     "execution_count": 17,
     "metadata": {},
     "output_type": "execute_result"
    }
   ],
   "source": [
    "import anndata as ad\n",
    "\n",
    "ad.__version__"
   ]
  },
  {
   "cell_type": "code",
   "execution_count": 18,
   "id": "231a74f8-2160-4754-98c7-bf8335c3e38f",
   "metadata": {},
   "outputs": [
    {
     "data": {
      "text/plain": [
       "'1.9.6'"
      ]
     },
     "execution_count": 18,
     "metadata": {},
     "output_type": "execute_result"
    }
   ],
   "source": [
    "import scanpy as sc\n",
    "\n",
    "sc.__version__"
   ]
  },
  {
   "cell_type": "code",
   "execution_count": 19,
   "id": "b55712c8-3ce7-4b26-8779-5f55cbbf85b2",
   "metadata": {},
   "outputs": [
    {
     "data": {
      "text/plain": [
       "'3.1.0'"
      ]
     },
     "execution_count": 19,
     "metadata": {},
     "output_type": "execute_result"
    }
   ],
   "source": [
    "import pyopenms as oms\n",
    "\n",
    "oms.__version__"
   ]
  },
  {
   "cell_type": "code",
   "execution_count": 20,
   "id": "851401ae-93a5-4080-b617-92de631232b6",
   "metadata": {},
   "outputs": [
    {
     "data": {
      "text/plain": [
       "'8.1.2'"
      ]
     },
     "execution_count": 20,
     "metadata": {},
     "output_type": "execute_result"
    }
   ],
   "source": [
    "import ipywidgets as widgets\n",
    "\n",
    "widgets.__version__"
   ]
  },
  {
   "cell_type": "code",
   "execution_count": 21,
   "id": "6fdb53b8-b540-4742-bfe8-756f0f8fe0e7",
   "metadata": {},
   "outputs": [
    {
     "data": {
      "text/plain": [
       "'1.35.0'"
      ]
     },
     "execution_count": 21,
     "metadata": {},
     "output_type": "execute_result"
    }
   ],
   "source": [
    "import streamlit as st\n",
    "\n",
    "st.__version__"
   ]
  },
  {
   "cell_type": "code",
   "execution_count": 22,
   "id": "ad31e0a8-2c30-4f68-9853-3792bd808844",
   "metadata": {},
   "outputs": [
    {
     "data": {
      "text/plain": [
       "'0.4.8.6'"
      ]
     },
     "execution_count": 22,
     "metadata": {},
     "output_type": "execute_result"
    }
   ],
   "source": [
    "import pygwalker as pyg\n",
    "\n",
    "pyg.__version__"
   ]
  },
  {
   "cell_type": "code",
   "execution_count": 23,
   "id": "30d15007-d5ea-46ac-ab28-1834d21d20ce",
   "metadata": {},
   "outputs": [],
   "source": [
    "!pip freeze > pip_freeze.txt"
   ]
  }
 ],
 "metadata": {
  "kernelspec": {
   "display_name": "Python 3 (ipykernel)",
   "language": "python",
   "name": "python3"
  },
  "language_info": {
   "codemirror_mode": {
    "name": "ipython",
    "version": 3
   },
   "file_extension": ".py",
   "mimetype": "text/x-python",
   "name": "python",
   "nbconvert_exporter": "python",
   "pygments_lexer": "ipython3",
   "version": "3.11.9"
  }
 },
 "nbformat": 4,
 "nbformat_minor": 5
}
